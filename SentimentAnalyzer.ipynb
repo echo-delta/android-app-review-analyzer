{
 "cells": [
  {
   "cell_type": "code",
   "execution_count": 110,
   "metadata": {},
   "outputs": [
    {
     "name": "stdout",
     "output_type": "stream",
     "text": [
      "import done.\n"
     ]
    }
   ],
   "source": [
    "# Imports\n",
    "\n",
    "from langdetect import detect\n",
    "\n",
    "import pandas as pd\n",
    "\n",
    "import os\n",
    "import random\n",
    "\n",
    "print(\"import done.\")"
   ]
  },
  {
   "cell_type": "code",
   "execution_count": 113,
   "metadata": {},
   "outputs": [
    {
     "name": "stdout",
     "output_type": "stream",
     "text": [
      "Loaded  100  data.\n"
     ]
    },
    {
     "data": {
      "text/plain": [
       "[\"Works very well. Found new quicker routes to places I've been going for years\",\n",
       " \"don't have search option plz how I can search place\",\n",
       " 'Ausume',\n",
       " \"Great game Alot of honest fun and good design that doesn't force advertisements on you, good job Yahtzee.\",\n",
       " \"Awesome So far game has no glitches. Nice graphics, very fun. Played for over an hour first time I play, couldn't put it down. This is the only game that I have purchased, best game I have played  Hopefully no problems in the future.\",\n",
       " 'User friendly. Good mix of games play daily.  like fireworks when win a game.  Thanks.',\n",
       " \"Cards Problem I'll give certainly give 5 stars if cards are made stylish\",\n",
       " 'Fh d Fcfatgv',\n",
       " 'Hussain Continue your work man',\n",
       " \"I think it's pretty messed up when I purchase a app, spend money and data down loading it and it doesn't work  Freezes every time my kiss plays it FIX THE PROBLEM\",\n",
       " 'Dose not work Cant get in to the game stuck on the start screen Please fix it and 5 stares for u if its fix',\n",
       " 'Please fix this Amanita I am stuck on 11 of 12 Achievements because the breaking out of jail did not register. If I replay, nothing happens. Achievement still inactive.',\n",
       " \"Great time waster I've used this app mainly on road trips with friends. Its great if your ever stuck with nothing to do with a few people. Everyone seems to enjoy it.\",\n",
       " 'No dualshock support Why can you only use Moga controls on this game Xperia z3 and dual shock go hand in hand except with your game it seems. Fix it',\n",
       " 'Soooo addictive Play against someone and tryen have them beat your score and go back and forth and restart when you choose its sooooo fun your just try to beat your own score as much as you can. addictive',\n",
       " 'You have to pay Lol',\n",
       " 'No online matchmaking Wad a shame, for such brilliant game',\n",
       " 'I completed the entire game I finished all the levels in the game. Ericus mountains, Red Rock Valley and Lotus Point. It was really fun indeed.',\n",
       " 'Very simple and effective way for new words for kids',\n",
       " 'Really fun app I love it its very fun you should buy it but there is some glitches but i rate 5 over all.',\n",
       " 'I love it jooo It is good beautiful',\n",
       " \"Won't let us enter name.would like money back you thieves. Stupid can't even play\",\n",
       " 'This app is supper  cool Loved it',\n",
       " \"Just try it Was never a fan of slots or pokie machines but this... This is the most enjoyable app I've downloaded\",\n",
       " 'Too simple Mainly ended up being a HOG. The few puzzle were far too simple and no interaction with characters.',\n",
       " 'Don,t like new update. Keeps bringing back puzzle previously finished.',\n",
       " 'Its a nic game Giving one star because no doubt its a lovely game, but you get only Thomas engine free rest all engines you have to purchase which is ver bad n sad. Developers could have come up with free version for all series',\n",
       " \"What happened Was the best ever. Now pop up ads on every page I go to. I have to search for the page I'm at all over again coz I can't go back. And one if the pop up ads links to this very page. You officially suck now.\",\n",
       " \"FUN FUN FUN Ok this game is so fun but it gets so boring but its so fun if your like 7 8 or 9 years old this is the perfect game for yall 10 11 and 12 don't get this game serisly\",\n",
       " 'Paid for the App, now Pay for Levels I paid 3 for this wonderful app, and I beat all the levels, Now I have to pay an extra 1 for more levels...',\n",
       " '',\n",
       " 'Good',\n",
       " 'Great app. I use the Yo Windows on my laptop too. I would not use any other. I have tried others but nothing beats YO WINDOOWS.',\n",
       " \"Mark Now I can't send photo n images pls fix it and no more icon\",\n",
       " \"LOVE it The rims and the color of the cars and the lemozen car OMG can't help it I love love love.love love love love it best griving game I ever played\",\n",
       " \"Loved it PEOPLE it can't be updated it originally came out on PC\",\n",
       " 'Amazing its really fun I have it on both of my devices',\n",
       " 'Crashed crashed crashed It crashes at a certain point in the game every time. Waste of money.',\n",
       " 'Great game Perfect little word game that you can play for a few minutes, or a few hours.',\n",
       " \"Keeps crashing... Icons don't change I want my refund\",\n",
       " 'Waste of time and money I need refund please',\n",
       " 'I love this game. But all of a sudden it when I go play the next episode it will play the stupid ads and then it just sits on the loading page. I have to close and reopen the app every single time now. This is very frustrating. PLEASE FIX THIS ASAP',\n",
       " \"Suxs I live near new orleans the biggest city in Louisiana. Would think it would be available but it's not. One city available for LA. Don't waste your money. Please refund my dollar ASAP.\",\n",
       " \"Couldn't even got inside.. no facebook I downloaded and found out it's only for facebook users. I don't have facebook then how can I use it. Deleted.  At least add google login.\",\n",
       " 'Had it as well for long time They really need to fix the lollipop issue.  Phones are moving forward not in reverse. I paid, so please fix for lollipop.',\n",
       " 'DO NOT GET THIS APP I got this app a couple of weeks ago and it has never worked I contacted the makers and they replied once but that is it. It still does not work Very disappointed Do not get this app',\n",
       " \"Soopa fast Great app but it allways has my team getting beat Sort that out  there'll be another 50,000 downloading  LIVE SCORES,,\",\n",
       " 'keeps crashing',\n",
       " \"Best Emojis ever I've tried just about all of these emojis and this collection is by far the Best\",\n",
       " \"I love this game it's great I finished all levels 180 in 3 stars  and looney cards plz. Finsh some levels with updat soon to i can play again am waiting ... Thank you\",\n",
       " \"Not so bad Sometimes teathering hotspot won't get established n smetimes it won't gt connected to required one n also can't change the storage location\",\n",
       " 'Walter mofokeng',\n",
       " 'They just steal your money 1 per minute. How much do the girls get paided They are on their 247  Total scam',\n",
       " \"Great, satisfying, arcade racing experience.... 5 Title says it all...just plain'ole'fun.... Thanks for the amazing racing series..  Patiently awaiting RR4...5...6.... Haha...keeepm coming\",\n",
       " 'U U',\n",
       " 'Bakwass Ver bakbass game.need to some changes',\n",
       " 'My rating This game is so the best game ever no ads pop out and no more short ads videos or whatever so happoy',\n",
       " \"Still doesn't find the highest scoring words 99 of the time. Can't use with WWF.\",\n",
       " 'Graphics not working properly Nexus 9 Game does not present itself properly. Field is entirely black. Players and uniforms are all blacked out',\n",
       " \"Thought it would be good I installed this game but there is networking problem plz fix this I pretend don't download this game . fix networking problem I'll give 5 stars\",\n",
       " 'Hate It This thing crashes and has terrible music.    Worthless piece of s.',\n",
       " 'Mr  Brand Pretorius I use it alot .... and happy .... if posible please ad lynx 624 x 44DT Hohold over recticke  please please please',\n",
       " \"I had it for a couple weeks then it froze up, I uninstalled it and now it won't reinstall.... Keep getting an error message... But I still get notifications... What's up with that HELP\",\n",
       " 'Christian Emojis Fantastic.  3D emojis. I like I them alot. Thanks.',\n",
       " 'Good I have gotten several updates and new games help out alot.',\n",
       " 'Great Ok',\n",
       " 'Well worth it In my first week home with my newborn this app has really helped me kee track of feedings and diapers',\n",
       " \"Crash Central Another update and still the additional levels won't load.... No chance of buying the latest episode until they do...\",\n",
       " \"Ya no I'd ur going make an app make sure it works\",\n",
       " 'Great App This app really breaks down the Bible so that it can really be understood.',\n",
       " 'I really like this game only need a faster way to collect money any advice Thanks for the free game',\n",
       " 'Used to work just fine.  Once my android phone was updated to 5.0 the app cannot copymove any file...  A fatal flaw since I paid for an app that doesnt do anything no more.',\n",
       " 'STUPID ADDS THE STUPID ADDS POP UP EVERY 5 SECONDS 4 THAT DUMB GAME OF WAR OTHER THAN THAT... ALL U DO IS CHASE MICE AND WHEN U DONT WANT TO BE ON TIME MODE IT PUTS U ON ANYWAYS',\n",
       " \"It doesn't work. I can't get the stars to move on phone like my friends does on her phone.  Wasted the fee for this app.\",\n",
       " \"I love it If u don't spend no money you'll have fun any way\",\n",
       " 'Animal hair salon This is the best game my niece ever had she learn how to use clipers so she can cut her cousin hair',\n",
       " 'Awesome program, big up',\n",
       " \"Disappointed Won't go past the part to enter your name Fix it or give me my money back\",\n",
       " 'Ads man Wow how many ads do you gotta shove down my throat  Absolutely terrible.',\n",
       " 'Camera permission For real RIP Kyrell Tyler',\n",
       " 'Make it work online properly Loved it but sometimes it disconnects automatically. Try making it work with slow internet and most of the time it says no internet even on wifi or mobile data',\n",
       " 'I love this game Its so fun',\n",
       " 'Bakar Kitna ganda game hai ek star likhana ka liya diya es ko like larna ka liya nahi stupit',\n",
       " 'Interesting game Please player vs player i really really loved this app so cant sleep without playing itD',\n",
       " \"This is point and click call of duty. Three released in one year and a fourth coming soon. ReallyReally Don't waste your cash,this game is complete crap\",\n",
       " 'Brilliant I think coin dozer is absolutely necessary for children, amazing, but it would let u down if u lost a massive coin But all together its awesome',\n",
       " 'Fun It was cool',\n",
       " \"This game is only trying to make money So stupid you have to pay real money for new hero's learn how to make apps rookies\",\n",
       " 'Yaaaaaay I can play Crash Bandicoot....Enough reason for 5 stars',\n",
       " 'Sucks This game has terrible gracious and sucks',\n",
       " 'I am disappointed with this app I thought that the app would show you how to do it but it is just YouTube videos that crash my phone. I am going to have to get ride of it.',\n",
       " \"I'm a human Shazam anyway But I still find myself needing a little extra help sometimes usually when a song I don't know is about to end\",\n",
       " '. . . Love this game. Things are not expensive Just enough to train everything full. Not hard to gain diamonds just go forward n u can have them  almost completed, few levels more then the aliens are destroyed for good',\n",
       " \"Brilliant A brilliant app that is challenging but great fun. The only thing I think could be better is if they grouped each difficulty together. Other than that, it's fantastic and I love playing it\",\n",
       " 'Is this thing is only a picture',\n",
       " \"Not what I wanted Ok so I downloaded this app and when I opened it the calibration was off by a lot And i couldn't see the whole screen. Not good for my android. Please make an upgrade for android. Thank u\",\n",
       " 'WTF Needs way more detail. 1. Sun should go down at 830pm not 900am 2. Animals 3. TNT block, diamond blocks and all them rare ones 4 A mother fkin save button 5. People Planet of cubes has all, install it',\n",
       " 'Samsung galaxy to 10.1 So cool if you are an avid  boardgames like me. Game itself is very immersive and soundtrack is a nice touch too.',\n",
       " 'My son loved it. It is easy even though my son is in first grade. Highly recommend it.',\n",
       " 'HATE No password recovery for my country HATE HATE HATE 2GO NOW']"
      ]
     },
     "execution_count": 113,
     "metadata": {},
     "output_type": "execute_result"
    }
   ],
   "source": [
    "# Load data\n",
    "\n",
    "filenamepos = \"Android-App-Reviews-Dataset-master/positive10k.txt\"\n",
    "filenameneg = \"Android-App-Reviews-Dataset-master/negative10k.txt\"\n",
    "size = 100 # out of 20000, must be even\n",
    "partition_size = int(size/2)\n",
    "\n",
    "with open(filenamepos) as dataFilepos:\n",
    "    dataListpos = [next(dataFilepos).rstrip() for x in range(partition_size)]\n",
    "    \n",
    "with open(filenameneg) as dataFileneg:\n",
    "    dataListneg = [next(dataFileneg).rstrip() for y in range(partition_size)]\n",
    "\n",
    "dataList = dataListpos + dataListneg\n",
    "datalist = random.shuffle(dataList)\n",
    "    \n",
    "print(\"Loaded \", len(dataList), \" data.\")\n",
    "dataList"
   ]
  },
  {
   "cell_type": "code",
   "execution_count": 114,
   "metadata": {},
   "outputs": [
    {
     "name": "stdout",
     "output_type": "stream",
     "text": [
      "Finished removing empty strings with  99  data left.\n",
      "Finished non-english filtering with  90  data left.\n",
      "[\"Works very well. Found new quicker routes to places I've been going for years\", \"don't have search option plz how I can search place\", \"Great game Alot of honest fun and good design that doesn't force advertisements on you, good job Yahtzee.\", \"Awesome So far game has no glitches. Nice graphics, very fun. Played for over an hour first time I play, couldn't put it down. This is the only game that I have purchased, best game I have played  Hopefully no problems in the future.\", 'User friendly. Good mix of games play daily.  like fireworks when win a game.  Thanks.', \"Cards Problem I'll give certainly give 5 stars if cards are made stylish\", 'Hussain Continue your work man', \"I think it's pretty messed up when I purchase a app, spend money and data down loading it and it doesn't work  Freezes every time my kiss plays it FIX THE PROBLEM\", 'Dose not work Cant get in to the game stuck on the start screen Please fix it and 5 stares for u if its fix', 'Please fix this Amanita I am stuck on 11 of 12 Achievements because the breaking out of jail did not register. If I replay, nothing happens. Achievement still inactive.', \"Great time waster I've used this app mainly on road trips with friends. Its great if your ever stuck with nothing to do with a few people. Everyone seems to enjoy it.\", 'No dualshock support Why can you only use Moga controls on this game Xperia z3 and dual shock go hand in hand except with your game it seems. Fix it', 'Soooo addictive Play against someone and tryen have them beat your score and go back and forth and restart when you choose its sooooo fun your just try to beat your own score as much as you can. addictive', 'You have to pay Lol', 'No online matchmaking Wad a shame, for such brilliant game', 'I completed the entire game I finished all the levels in the game. Ericus mountains, Red Rock Valley and Lotus Point. It was really fun indeed.', 'Very simple and effective way for new words for kids', 'Really fun app I love it its very fun you should buy it but there is some glitches but i rate 5 over all.', 'I love it jooo It is good beautiful', \"Won't let us enter name.would like money back you thieves. Stupid can't even play\", 'This app is supper  cool Loved it', \"Just try it Was never a fan of slots or pokie machines but this... This is the most enjoyable app I've downloaded\", 'Too simple Mainly ended up being a HOG. The few puzzle were far too simple and no interaction with characters.', 'Don,t like new update. Keeps bringing back puzzle previously finished.', 'Its a nic game Giving one star because no doubt its a lovely game, but you get only Thomas engine free rest all engines you have to purchase which is ver bad n sad. Developers could have come up with free version for all series', \"What happened Was the best ever. Now pop up ads on every page I go to. I have to search for the page I'm at all over again coz I can't go back. And one if the pop up ads links to this very page. You officially suck now.\", \"FUN FUN FUN Ok this game is so fun but it gets so boring but its so fun if your like 7 8 or 9 years old this is the perfect game for yall 10 11 and 12 don't get this game serisly\", 'Paid for the App, now Pay for Levels I paid 3 for this wonderful app, and I beat all the levels, Now I have to pay an extra 1 for more levels...', 'Great app. I use the Yo Windows on my laptop too. I would not use any other. I have tried others but nothing beats YO WINDOOWS.', \"Mark Now I can't send photo n images pls fix it and no more icon\", \"LOVE it The rims and the color of the cars and the lemozen car OMG can't help it I love love love.love love love love it best griving game I ever played\", \"Loved it PEOPLE it can't be updated it originally came out on PC\", 'Amazing its really fun I have it on both of my devices', 'Crashed crashed crashed It crashes at a certain point in the game every time. Waste of money.', 'Great game Perfect little word game that you can play for a few minutes, or a few hours.', \"Keeps crashing... Icons don't change I want my refund\", 'Waste of time and money I need refund please', 'I love this game. But all of a sudden it when I go play the next episode it will play the stupid ads and then it just sits on the loading page. I have to close and reopen the app every single time now. This is very frustrating. PLEASE FIX THIS ASAP', \"Suxs I live near new orleans the biggest city in Louisiana. Would think it would be available but it's not. One city available for LA. Don't waste your money. Please refund my dollar ASAP.\", \"Couldn't even got inside.. no facebook I downloaded and found out it's only for facebook users. I don't have facebook then how can I use it. Deleted.  At least add google login.\", 'Had it as well for long time They really need to fix the lollipop issue.  Phones are moving forward not in reverse. I paid, so please fix for lollipop.', 'DO NOT GET THIS APP I got this app a couple of weeks ago and it has never worked I contacted the makers and they replied once but that is it. It still does not work Very disappointed Do not get this app', \"Soopa fast Great app but it allways has my team getting beat Sort that out  there'll be another 50,000 downloading  LIVE SCORES,,\", 'keeps crashing', \"Best Emojis ever I've tried just about all of these emojis and this collection is by far the Best\", \"I love this game it's great I finished all levels 180 in 3 stars  and looney cards plz. Finsh some levels with updat soon to i can play again am waiting ... Thank you\", \"Not so bad Sometimes teathering hotspot won't get established n smetimes it won't gt connected to required one n also can't change the storage location\", 'They just steal your money 1 per minute. How much do the girls get paided They are on their 247  Total scam', \"Great, satisfying, arcade racing experience.... 5 Title says it all...just plain'ole'fun.... Thanks for the amazing racing series..  Patiently awaiting RR4...5...6.... Haha...keeepm coming\", 'Bakwass Ver bakbass game.need to some changes', 'My rating This game is so the best game ever no ads pop out and no more short ads videos or whatever so happoy', \"Still doesn't find the highest scoring words 99 of the time. Can't use with WWF.\", 'Graphics not working properly Nexus 9 Game does not present itself properly. Field is entirely black. Players and uniforms are all blacked out', \"Thought it would be good I installed this game but there is networking problem plz fix this I pretend don't download this game . fix networking problem I'll give 5 stars\", 'Hate It This thing crashes and has terrible music.    Worthless piece of s.', 'Mr  Brand Pretorius I use it alot .... and happy .... if posible please ad lynx 624 x 44DT Hohold over recticke  please please please', \"I had it for a couple weeks then it froze up, I uninstalled it and now it won't reinstall.... Keep getting an error message... But I still get notifications... What's up with that HELP\", 'Christian Emojis Fantastic.  3D emojis. I like I them alot. Thanks.', 'Good I have gotten several updates and new games help out alot.', 'Well worth it In my first week home with my newborn this app has really helped me kee track of feedings and diapers', \"Crash Central Another update and still the additional levels won't load.... No chance of buying the latest episode until they do...\", 'Great App This app really breaks down the Bible so that it can really be understood.', 'I really like this game only need a faster way to collect money any advice Thanks for the free game', 'Used to work just fine.  Once my android phone was updated to 5.0 the app cannot copymove any file...  A fatal flaw since I paid for an app that doesnt do anything no more.', 'STUPID ADDS THE STUPID ADDS POP UP EVERY 5 SECONDS 4 THAT DUMB GAME OF WAR OTHER THAN THAT... ALL U DO IS CHASE MICE AND WHEN U DONT WANT TO BE ON TIME MODE IT PUTS U ON ANYWAYS', \"It doesn't work. I can't get the stars to move on phone like my friends does on her phone.  Wasted the fee for this app.\", \"I love it If u don't spend no money you'll have fun any way\", 'Animal hair salon This is the best game my niece ever had she learn how to use clipers so she can cut her cousin hair', \"Disappointed Won't go past the part to enter your name Fix it or give me my money back\", 'Ads man Wow how many ads do you gotta shove down my throat  Absolutely terrible.', 'Camera permission For real RIP Kyrell Tyler', 'Make it work online properly Loved it but sometimes it disconnects automatically. Try making it work with slow internet and most of the time it says no internet even on wifi or mobile data', 'I love this game Its so fun', 'Interesting game Please player vs player i really really loved this app so cant sleep without playing itD', \"This is point and click call of duty. Three released in one year and a fourth coming soon. ReallyReally Don't waste your cash,this game is complete crap\", 'Brilliant I think coin dozer is absolutely necessary for children, amazing, but it would let u down if u lost a massive coin But all together its awesome', 'Fun It was cool', \"This game is only trying to make money So stupid you have to pay real money for new hero's learn how to make apps rookies\", 'Yaaaaaay I can play Crash Bandicoot....Enough reason for 5 stars', 'Sucks This game has terrible gracious and sucks', 'I am disappointed with this app I thought that the app would show you how to do it but it is just YouTube videos that crash my phone. I am going to have to get ride of it.', \"I'm a human Shazam anyway But I still find myself needing a little extra help sometimes usually when a song I don't know is about to end\", '. . . Love this game. Things are not expensive Just enough to train everything full. Not hard to gain diamonds just go forward n u can have them  almost completed, few levels more then the aliens are destroyed for good', \"Brilliant A brilliant app that is challenging but great fun. The only thing I think could be better is if they grouped each difficulty together. Other than that, it's fantastic and I love playing it\", 'Is this thing is only a picture', \"Not what I wanted Ok so I downloaded this app and when I opened it the calibration was off by a lot And i couldn't see the whole screen. Not good for my android. Please make an upgrade for android. Thank u\", 'WTF Needs way more detail. 1. Sun should go down at 830pm not 900am 2. Animals 3. TNT block, diamond blocks and all them rare ones 4 A mother fkin save button 5. People Planet of cubes has all, install it', 'Samsung galaxy to 10.1 So cool if you are an avid  boardgames like me. Game itself is very immersive and soundtrack is a nice touch too.', 'My son loved it. It is easy even though my son is in first grade. Highly recommend it.', 'HATE No password recovery for my country HATE HATE HATE 2GO NOW']\n",
      "Removed  9  non-english data.\n",
      "['Ausume', 'Fh d Fcfatgv', 'Good', 'Walter mofokeng', 'U U', 'Great Ok', \"Ya no I'd ur going make an app make sure it works\", 'Awesome program, big up', 'Bakar Kitna ganda game hai ek star likhana ka liya diya es ko like larna ka liya nahi stupit']\n"
     ]
    }
   ],
   "source": [
    "# Pre-proccessing\n",
    "\n",
    "# Uncomment for converting to dataframe\n",
    "# data = pd.DataFrame(dataList)[0]\n",
    "# data\n",
    "\n",
    "# Remove empty strings\n",
    "dataList = list(filter(None, dataList))\n",
    "print(\"Finished removing empty strings with \", len(dataList), \" data left.\")\n",
    "\n",
    "# Get English reviews only\n",
    "reviews = []\n",
    "bad_reviews = []\n",
    "for review in dataList:\n",
    "    if detect(review) == \"en\":\n",
    "        reviews += [review]\n",
    "    else:\n",
    "        bad_reviews += [review]\n",
    "\n",
    "print(\"Finished non-english filtering with \", len(reviews), \" data left.\")\n",
    "print(reviews)\n",
    "print(\"Removed \", len(bad_reviews), \" non-english data.\")\n",
    "print(bad_reviews)"
   ]
  },
  {
   "cell_type": "code",
   "execution_count": null,
   "metadata": {
    "collapsed": true
   },
   "outputs": [],
   "source": []
  }
 ],
 "metadata": {
  "kernelspec": {
   "display_name": "Python 3",
   "language": "python",
   "name": "python3"
  },
  "language_info": {
   "codemirror_mode": {
    "name": "ipython",
    "version": 3
   },
   "file_extension": ".py",
   "mimetype": "text/x-python",
   "name": "python",
   "nbconvert_exporter": "python",
   "pygments_lexer": "ipython3",
   "version": "3.6.3"
  }
 },
 "nbformat": 4,
 "nbformat_minor": 2
}
